{
 "cells": [
  {
   "cell_type": "code",
   "execution_count": null,
   "id": "55ee2447",
   "metadata": {},
   "outputs": [],
   "source": [
    "SELECT ROUND(SUM(lat_n), 2),\n",
    "       ROUND(SUM(long_w), 2)\n",
    "FROM station;"
   ]
  }
 ],
 "metadata": {
  "kernelspec": {
   "display_name": "Python 3 (ipykernel)",
   "language": "python",
   "name": "python3"
  },
  "language_info": {
   "codemirror_mode": {
    "name": "ipython",
    "version": 3
   },
   "file_extension": ".py",
   "mimetype": "text/x-python",
   "name": "python",
   "nbconvert_exporter": "python",
   "pygments_lexer": "ipython3",
   "version": "3.10.9"
  }
 },
 "nbformat": 4,
 "nbformat_minor": 5
}
