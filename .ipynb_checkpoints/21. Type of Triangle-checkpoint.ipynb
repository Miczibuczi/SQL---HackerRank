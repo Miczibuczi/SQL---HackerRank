{
 "cells": [
  {
   "cell_type": "code",
   "execution_count": null,
   "id": "3ac9e4c2",
   "metadata": {},
   "outputs": [],
   "source": [
    "SELECT\n",
    "    CASE\n",
    "        WHEN 2 * GREATEST(A, B, C) >= (A+B+C) THEN 'Not A Triangle'\n",
    "        WHEN A=B AND B=C THEN 'Equilateral'\n",
    "        WHEN A=B OR A=C OR B=C THEN 'Isosceles'\n",
    "        ELSE 'Scalene'\n",
    "    END\n",
    "FROM triangles;"
   ]
  }
 ],
 "metadata": {
  "kernelspec": {
   "display_name": "Python 3 (ipykernel)",
   "language": "python",
   "name": "python3"
  },
  "language_info": {
   "codemirror_mode": {
    "name": "ipython",
    "version": 3
   },
   "file_extension": ".py",
   "mimetype": "text/x-python",
   "name": "python",
   "nbconvert_exporter": "python",
   "pygments_lexer": "ipython3",
   "version": "3.10.9"
  }
 },
 "nbformat": 4,
 "nbformat_minor": 5
}
