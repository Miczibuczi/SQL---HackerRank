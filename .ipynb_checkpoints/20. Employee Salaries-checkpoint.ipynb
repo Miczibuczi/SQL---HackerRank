{
 "cells": [
  {
   "cell_type": "code",
   "execution_count": null,
   "id": "5e114b3e",
   "metadata": {},
   "outputs": [],
   "source": [
    "SELECT name\n",
    "FROM employee\n",
    "WHERE salary > 2000\n",
    "AND months < 10\n",
    "ORDER BY employee_id;"
   ]
  }
 ],
 "metadata": {
  "kernelspec": {
   "display_name": "Python 3 (ipykernel)",
   "language": "python",
   "name": "python3"
  },
  "language_info": {
   "codemirror_mode": {
    "name": "ipython",
    "version": 3
   },
   "file_extension": ".py",
   "mimetype": "text/x-python",
   "name": "python",
   "nbconvert_exporter": "python",
   "pygments_lexer": "ipython3",
   "version": "3.10.9"
  }
 },
 "nbformat": 4,
 "nbformat_minor": 5
}
