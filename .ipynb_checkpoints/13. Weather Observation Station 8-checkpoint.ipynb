{
 "cells": [
  {
   "cell_type": "code",
   "execution_count": null,
   "id": "77273a64",
   "metadata": {},
   "outputs": [],
   "source": [
    "SELECT DISTINCT city\n",
    "FROM station\n",
    "WHERE LEFT(city, 1) IN (\"e\", \"a\", \"i\", \"o\", \"u\")\n",
    "AND RIGHT(city, 1) IN (\"e\", \"a\", \"i\", \"o\", \"u\");"
   ]
  }
 ],
 "metadata": {
  "kernelspec": {
   "display_name": "Python 3 (ipykernel)",
   "language": "python",
   "name": "python3"
  },
  "language_info": {
   "codemirror_mode": {
    "name": "ipython",
    "version": 3
   },
   "file_extension": ".py",
   "mimetype": "text/x-python",
   "name": "python",
   "nbconvert_exporter": "python",
   "pygments_lexer": "ipython3",
   "version": "3.10.9"
  }
 },
 "nbformat": 4,
 "nbformat_minor": 5
}
