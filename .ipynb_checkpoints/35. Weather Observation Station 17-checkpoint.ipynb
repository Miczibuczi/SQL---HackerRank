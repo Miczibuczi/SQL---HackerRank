{
 "cells": [
  {
   "cell_type": "code",
   "execution_count": null,
   "id": "c8a534ad",
   "metadata": {},
   "outputs": [],
   "source": [
    "SELECT ROUND(long_w, 4)\n",
    "FROM station\n",
    "WHERE lat_n = (SELECT MIN(lat_n) FROM station WHERE lat_n > 38.778);"
   ]
  }
 ],
 "metadata": {
  "kernelspec": {
   "display_name": "Python 3 (ipykernel)",
   "language": "python",
   "name": "python3"
  },
  "language_info": {
   "codemirror_mode": {
    "name": "ipython",
    "version": 3
   },
   "file_extension": ".py",
   "mimetype": "text/x-python",
   "name": "python",
   "nbconvert_exporter": "python",
   "pygments_lexer": "ipython3",
   "version": "3.10.9"
  }
 },
 "nbformat": 4,
 "nbformat_minor": 5
}
