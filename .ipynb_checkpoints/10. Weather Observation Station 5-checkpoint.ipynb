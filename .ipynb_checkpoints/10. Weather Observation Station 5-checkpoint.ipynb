{
 "cells": [
  {
   "cell_type": "code",
   "execution_count": null,
   "id": "e8d2255f",
   "metadata": {},
   "outputs": [],
   "source": [
    "(SELECT city, LENGTH(city)\n",
    "FROM station\n",
    "ORDER BY LENGTH(city) ASC, city ASC\n",
    "LIMIT 1)\n",
    "\n",
    "UNION ALL\n",
    "\n",
    "(SELECT city, LENGTH(city)\n",
    "FROM station\n",
    "ORDER BY LENGTH(city) DESC, city ASC\n",
    "LIMIT 1);"
   ]
  }
 ],
 "metadata": {
  "kernelspec": {
   "display_name": "Python 3 (ipykernel)",
   "language": "python",
   "name": "python3"
  },
  "language_info": {
   "codemirror_mode": {
    "name": "ipython",
    "version": 3
   },
   "file_extension": ".py",
   "mimetype": "text/x-python",
   "name": "python",
   "nbconvert_exporter": "python",
   "pygments_lexer": "ipython3",
   "version": "3.10.9"
  }
 },
 "nbformat": 4,
 "nbformat_minor": 5
}
