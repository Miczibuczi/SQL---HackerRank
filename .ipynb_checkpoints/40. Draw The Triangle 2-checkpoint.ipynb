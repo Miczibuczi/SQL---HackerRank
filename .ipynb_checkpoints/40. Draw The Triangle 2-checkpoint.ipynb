{
 "cells": [
  {
   "cell_type": "code",
   "execution_count": null,
   "id": "f0c345b8",
   "metadata": {},
   "outputs": [],
   "source": [
    "DELIMITER //\n",
    "\n",
    "CREATE PROCEDURE P(n INT)\n",
    "BEGIN\n",
    "    DECLARE i INT;\n",
    "    SET i = 1;\n",
    "    WHILE i <= n DO\n",
    "        SELECT REPEAT('* ', i);\n",
    "        SET i = i + 1;\n",
    "    END WHILE;\n",
    "END //\n",
    "\n",
    "DELIMITER ;\n",
    "\n",
    "CALL P(20);"
   ]
  }
 ],
 "metadata": {
  "kernelspec": {
   "display_name": "Python 3 (ipykernel)",
   "language": "python",
   "name": "python3"
  },
  "language_info": {
   "codemirror_mode": {
    "name": "ipython",
    "version": 3
   },
   "file_extension": ".py",
   "mimetype": "text/x-python",
   "name": "python",
   "nbconvert_exporter": "python",
   "pygments_lexer": "ipython3",
   "version": "3.10.9"
  }
 },
 "nbformat": 4,
 "nbformat_minor": 5
}
