{
 "cells": [
  {
   "cell_type": "code",
   "execution_count": null,
   "id": "c81ce107",
   "metadata": {},
   "outputs": [],
   "source": [
    "SELECT name\n",
    "FROM students\n",
    "WHERE marks > 75\n",
    "ORDER BY RIGHT(name, 3) ASC, ID ASC;"
   ]
  }
 ],
 "metadata": {
  "kernelspec": {
   "display_name": "Python 3 (ipykernel)",
   "language": "python",
   "name": "python3"
  },
  "language_info": {
   "codemirror_mode": {
    "name": "ipython",
    "version": 3
   },
   "file_extension": ".py",
   "mimetype": "text/x-python",
   "name": "python",
   "nbconvert_exporter": "python",
   "pygments_lexer": "ipython3",
   "version": "3.10.9"
  }
 },
 "nbformat": 4,
 "nbformat_minor": 5
}
